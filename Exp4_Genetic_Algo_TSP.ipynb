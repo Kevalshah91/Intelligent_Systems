{
  "nbformat": 4,
  "nbformat_minor": 0,
  "metadata": {
    "colab": {
      "provenance": []
    },
    "kernelspec": {
      "name": "python3",
      "display_name": "Python 3"
    },
    "language_info": {
      "name": "python"
    }
  },
  "cells": [
    {
      "cell_type": "markdown",
      "source": [
        "Keval Shah <br>\n",
        "60009220061 <br>\n",
        "IS Exp4"
      ],
      "metadata": {
        "id": "NkxSdR5jAH_e"
      }
    },
    {
      "cell_type": "code",
      "execution_count": 1,
      "metadata": {
        "id": "JxM6FUrVAAIG"
      },
      "outputs": [],
      "source": [
        "import numpy as np\n",
        "import random\n",
        "import time\n",
        "from itertools import permutations"
      ]
    },
    {
      "cell_type": "code",
      "source": [
        "def generate_cities(n):\n",
        "    return np.random.rand(n, 2)\n",
        "\n",
        "def distance(city1, city2):\n",
        "    return np.linalg.norm(city1 - city2)\n",
        "\n",
        "# Calculate total tour distance (fitness)\n",
        "def total_distance(tour, cities):\n",
        "    return sum(distance(cities[tour[i]], cities[tour[i + 1]]) for i in range(len(tour) - 1)) + distance(cities[tour[-1]], cities[tour[0]])"
      ],
      "metadata": {
        "id": "S83XS0UAAHVx"
      },
      "execution_count": 2,
      "outputs": []
    },
    {
      "cell_type": "code",
      "source": [
        "def create_population(pop_size, num_cities):\n",
        "    return [random.sample(range(num_cities), num_cities) for _ in range(pop_size)]\n",
        "\n",
        "def selection(population, cities, k=3):\n",
        "    selected = random.sample(population, k)\n",
        "    selected.sort(key=lambda x: total_distance(x, cities))\n",
        "    return selected[0]"
      ],
      "metadata": {
        "id": "5gR_0phHAeDI"
      },
      "execution_count": 3,
      "outputs": []
    },
    {
      "cell_type": "code",
      "source": [
        "def cyclic_crossover(parent1, parent2):\n",
        "    size = len(parent1)\n",
        "    child = [-1] * size\n",
        "    child[0] = parent1[0]\n",
        "    index = 0\n",
        "    while True:\n",
        "        value = parent2[index]\n",
        "        index = parent1.index(value)\n",
        "        if child[index] != -1:\n",
        "            break\n",
        "        child[index] = value\n",
        "    for i in range(size):\n",
        "        if child[i] == -1:\n",
        "            child[i] = parent2[i]\n",
        "    return child\n",
        "\n",
        "# Mutation by swapping two cities\n",
        "def mutate(tour, mutation_rate=0.1):\n",
        "    if random.random() < mutation_rate:\n",
        "        i, j = random.sample(range(len(tour)), 2)\n",
        "        tour[i], tour[j] = tour[j], tour[i]\n",
        "    return tour"
      ],
      "metadata": {
        "id": "8hCxFfecAjZU"
      },
      "execution_count": 4,
      "outputs": []
    },
    {
      "cell_type": "code",
      "source": [
        "def genetic_algorithm(cities, pop_size=100, generations=500, mutation_rate=0.1):\n",
        "    num_cities = len(cities)\n",
        "    population = create_population(pop_size, num_cities)\n",
        "\n",
        "    for gen in range(generations):\n",
        "        new_population = []\n",
        "        for _ in range(pop_size // 2):\n",
        "            parent1 = selection(population, cities)\n",
        "            parent2 = selection(population, cities)\n",
        "            child1 = cyclic_crossover(parent1, parent2)\n",
        "            child2 = cyclic_crossover(parent2, parent1)\n",
        "            child1 = mutate(child1, mutation_rate)\n",
        "            child2 = mutate(child2, mutation_rate)\n",
        "            new_population.extend([child1, child2])\n",
        "        population = new_population\n",
        "        best_tour = min(population, key=lambda x: total_distance(x, cities))\n",
        "        if gen % 50 == 0:\n",
        "            print(f\"Generation {gen}, Best Distance: {total_distance(best_tour, cities):.2f}\")\n",
        "    return best_tour, total_distance(best_tour, cities)"
      ],
      "metadata": {
        "id": "rmDzCoXNAo3T"
      },
      "execution_count": 5,
      "outputs": []
    },
    {
      "cell_type": "code",
      "source": [
        "num_cities = 20\n",
        "cities = generate_cities(num_cities)\n",
        "start_time = time.time()\n",
        "best_tour, best_distance = genetic_algorithm(cities, pop_size=100, generations=1000)\n",
        "end_time = time.time()"
      ],
      "metadata": {
        "colab": {
          "base_uri": "https://localhost:8080/"
        },
        "id": "a7Ahb4RfAprG",
        "outputId": "32d3ef32-71f3-400f-b530-1a59b5c03155"
      },
      "execution_count": 6,
      "outputs": [
        {
          "output_type": "stream",
          "name": "stdout",
          "text": [
            "Generation 0, Best Distance: 8.10\n",
            "Generation 50, Best Distance: 5.21\n",
            "Generation 100, Best Distance: 4.96\n",
            "Generation 150, Best Distance: 4.09\n",
            "Generation 200, Best Distance: 4.09\n",
            "Generation 250, Best Distance: 4.09\n",
            "Generation 300, Best Distance: 4.09\n",
            "Generation 350, Best Distance: 4.09\n",
            "Generation 400, Best Distance: 4.09\n",
            "Generation 450, Best Distance: 4.09\n",
            "Generation 500, Best Distance: 4.09\n",
            "Generation 550, Best Distance: 4.09\n",
            "Generation 600, Best Distance: 4.09\n",
            "Generation 650, Best Distance: 4.09\n",
            "Generation 700, Best Distance: 4.09\n",
            "Generation 750, Best Distance: 4.09\n",
            "Generation 800, Best Distance: 4.09\n",
            "Generation 850, Best Distance: 4.09\n",
            "Generation 900, Best Distance: 4.09\n",
            "Generation 950, Best Distance: 4.09\n"
          ]
        }
      ]
    },
    {
      "cell_type": "code",
      "source": [
        "print(f\"Best tour for {num_cities} cities: {best_tour}\")\n",
        "print(f\"Best distance: {best_distance:.2f}\")\n",
        "print(f\"Time taken: {end_time - start_time:.2f} seconds\")"
      ],
      "metadata": {
        "colab": {
          "base_uri": "https://localhost:8080/"
        },
        "id": "YhULXoHCAtRP",
        "outputId": "c05941ce-386f-4ca6-9541-ebef8c5c6de1"
      },
      "execution_count": 7,
      "outputs": [
        {
          "output_type": "stream",
          "name": "stdout",
          "text": [
            "Best tour for 20 cities: [11, 3, 15, 17, 12, 4, 0, 19, 13, 10, 8, 14, 16, 9, 18, 6, 7, 2, 1, 5]\n",
            "Best distance: 4.09\n",
            "Time taken: 43.46 seconds\n"
          ]
        }
      ]
    },
    {
      "cell_type": "code",
      "source": [
        "for num_cities in [5, 10, 20, 40]:\n",
        "    cities = generate_cities(num_cities)\n",
        "    start_time = time.time()\n",
        "    best_tour, best_distance = genetic_algorithm(cities, pop_size=100, generations=1000)\n",
        "    end_time = time.time()\n",
        "    print(f\"\\nNumber of cities: {num_cities}\")\n",
        "    print(f\"Best Distance: {best_distance:.2f}\")\n",
        "    print(f\"Time taken: {end_time - start_time:.2f} seconds\")"
      ],
      "metadata": {
        "colab": {
          "base_uri": "https://localhost:8080/"
        },
        "id": "6vL4OsiNAyCM",
        "outputId": "7e555a42-c071-457f-9dfb-53eeb1c54355"
      },
      "execution_count": 8,
      "outputs": [
        {
          "output_type": "stream",
          "name": "stdout",
          "text": [
            "Generation 0, Best Distance: 1.93\n",
            "Generation 50, Best Distance: 1.93\n",
            "Generation 100, Best Distance: 1.93\n",
            "Generation 150, Best Distance: 1.93\n",
            "Generation 200, Best Distance: 1.93\n",
            "Generation 250, Best Distance: 1.93\n",
            "Generation 300, Best Distance: 1.93\n",
            "Generation 350, Best Distance: 1.93\n",
            "Generation 400, Best Distance: 1.93\n",
            "Generation 450, Best Distance: 1.93\n",
            "Generation 500, Best Distance: 1.93\n",
            "Generation 550, Best Distance: 1.93\n",
            "Generation 600, Best Distance: 1.93\n",
            "Generation 650, Best Distance: 1.93\n",
            "Generation 700, Best Distance: 1.93\n",
            "Generation 750, Best Distance: 1.93\n",
            "Generation 800, Best Distance: 1.93\n",
            "Generation 850, Best Distance: 1.93\n",
            "Generation 900, Best Distance: 1.93\n",
            "Generation 950, Best Distance: 1.93\n",
            "\n",
            "Number of cities: 5\n",
            "Best Distance: 1.93\n",
            "Time taken: 11.94 seconds\n",
            "Generation 0, Best Distance: 3.88\n",
            "Generation 50, Best Distance: 3.51\n",
            "Generation 100, Best Distance: 3.51\n",
            "Generation 150, Best Distance: 3.51\n",
            "Generation 200, Best Distance: 3.51\n",
            "Generation 250, Best Distance: 3.51\n",
            "Generation 300, Best Distance: 3.51\n",
            "Generation 350, Best Distance: 3.51\n",
            "Generation 400, Best Distance: 3.51\n",
            "Generation 450, Best Distance: 3.51\n",
            "Generation 500, Best Distance: 3.51\n",
            "Generation 550, Best Distance: 3.51\n",
            "Generation 600, Best Distance: 3.51\n",
            "Generation 650, Best Distance: 3.51\n",
            "Generation 700, Best Distance: 3.51\n",
            "Generation 750, Best Distance: 3.51\n",
            "Generation 800, Best Distance: 3.51\n",
            "Generation 850, Best Distance: 3.51\n",
            "Generation 900, Best Distance: 3.51\n",
            "Generation 950, Best Distance: 3.51\n",
            "\n",
            "Number of cities: 10\n",
            "Best Distance: 3.51\n",
            "Time taken: 21.07 seconds\n",
            "Generation 0, Best Distance: 7.60\n",
            "Generation 50, Best Distance: 5.20\n",
            "Generation 100, Best Distance: 4.93\n",
            "Generation 150, Best Distance: 4.91\n",
            "Generation 200, Best Distance: 4.66\n",
            "Generation 250, Best Distance: 4.66\n",
            "Generation 300, Best Distance: 4.66\n",
            "Generation 350, Best Distance: 4.66\n",
            "Generation 400, Best Distance: 4.66\n",
            "Generation 450, Best Distance: 4.66\n",
            "Generation 500, Best Distance: 4.66\n",
            "Generation 550, Best Distance: 4.66\n",
            "Generation 600, Best Distance: 4.66\n",
            "Generation 650, Best Distance: 4.66\n",
            "Generation 700, Best Distance: 4.66\n",
            "Generation 750, Best Distance: 4.66\n",
            "Generation 800, Best Distance: 4.66\n",
            "Generation 850, Best Distance: 4.66\n",
            "Generation 900, Best Distance: 4.66\n",
            "Generation 950, Best Distance: 4.66\n",
            "\n",
            "Number of cities: 20\n",
            "Best Distance: 4.66\n",
            "Time taken: 43.27 seconds\n",
            "Generation 0, Best Distance: 16.91\n",
            "Generation 50, Best Distance: 11.62\n",
            "Generation 100, Best Distance: 10.15\n",
            "Generation 150, Best Distance: 9.20\n",
            "Generation 200, Best Distance: 8.62\n",
            "Generation 250, Best Distance: 8.20\n",
            "Generation 300, Best Distance: 8.10\n",
            "Generation 350, Best Distance: 8.01\n",
            "Generation 400, Best Distance: 7.99\n",
            "Generation 450, Best Distance: 7.76\n",
            "Generation 500, Best Distance: 7.21\n",
            "Generation 550, Best Distance: 7.02\n",
            "Generation 600, Best Distance: 7.02\n",
            "Generation 650, Best Distance: 7.02\n",
            "Generation 700, Best Distance: 7.00\n",
            "Generation 750, Best Distance: 7.00\n",
            "Generation 800, Best Distance: 7.00\n",
            "Generation 850, Best Distance: 7.00\n",
            "Generation 900, Best Distance: 7.00\n",
            "Generation 950, Best Distance: 7.00\n",
            "\n",
            "Number of cities: 40\n",
            "Best Distance: 7.00\n",
            "Time taken: 82.64 seconds\n"
          ]
        }
      ]
    },
    {
      "cell_type": "code",
      "source": [],
      "metadata": {
        "id": "XUnXxfIpA-Oc"
      },
      "execution_count": null,
      "outputs": []
    },
    {
      "cell_type": "markdown",
      "source": [
        "### Conclusion:\n",
        "\n",
        "The Genetic Algorithm effectively solves the Travelling Salesman Problem by evolving better solutions through selection, crossover, and mutation. It works well for different city sizes and adapts to various optimization tasks. This experiment shows how GAs can be used in real-world applications like optimizing delivery routes, robot navigation, scheduling, and even improving engineering designs. The algorithm’s flexibility makes it a powerful tool for solving complex problems efficiently."
      ],
      "metadata": {
        "id": "KTIeld9EBsn4"
      }
    }
  ]
}