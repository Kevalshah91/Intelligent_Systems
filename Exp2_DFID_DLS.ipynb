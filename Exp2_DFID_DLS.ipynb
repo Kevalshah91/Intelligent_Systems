{
  "nbformat": 4,
  "nbformat_minor": 0,
  "metadata": {
    "colab": {
      "provenance": []
    },
    "kernelspec": {
      "name": "python3",
      "display_name": "Python 3"
    },
    "language_info": {
      "name": "python"
    }
  },
  "cells": [
    {
      "cell_type": "markdown",
      "source": [
        "Keval Shah\n",
        "<br>\n",
        "60009220061"
      ],
      "metadata": {
        "id": "VMBgaSVlAsg5"
      }
    },
    {
      "cell_type": "code",
      "source": [
        "from collections import deque\n",
        "\n",
        "MOVES = {\n",
        "    'up': (-1, 0),\n",
        "    'down': (1, 0),\n",
        "    'left': (0, -1),\n",
        "    'right': (0, 1)\n",
        "}\n",
        "\n",
        "def get_goal_state():\n",
        "    return ((1, 2, 3), (4, 5, 6), (7, 8, 0))\n",
        "\n",
        "def print_state(state):\n",
        "    for row in state:\n",
        "        print(\" \".join(str(x) for x in row))\n",
        "    print()\n",
        "\n",
        "def get_possible_moves(state):\n",
        "    empty_row, empty_col = [(i, row.index(0)) for i, row in enumerate(state) if 0 in row][0]\n",
        "    moves = []\n",
        "\n",
        "    for direction, (dr, dc) in MOVES.items():\n",
        "        new_row, new_col = empty_row + dr, empty_col + dc\n",
        "        if 0 <= new_row < 3 and 0 <= new_col < 3:\n",
        "            # Create a new state by swapping the empty space with the target position\n",
        "            new_state = [list(row) for row in state]\n",
        "            new_state[empty_row][empty_col], new_state[new_row][new_col] = new_state[new_row][new_col], new_state[empty_row][empty_col]\n",
        "            moves.append((tuple(tuple(row) for row in new_state), direction))\n",
        "\n",
        "    return moves\n",
        "\n",
        "# Perform depth-limited search to find a solution within a given depth\n",
        "def depth_limited_search(state, goal_state, depth):\n",
        "    if state == goal_state:\n",
        "        return []\n",
        "    if depth == 0:\n",
        "        return None\n",
        "    for next_state, move in get_possible_moves(state):\n",
        "        result = depth_limited_search(next_state, goal_state, depth - 1)\n",
        "        if result is not None:\n",
        "            return [move] + result\n",
        "    return None\n",
        "\n",
        "# Perform depth-first iterative deepening search to find the solution\n",
        "def dfid_search(start_state, goal_state):\n",
        "    depth = 0\n",
        "    while True:\n",
        "        result = depth_limited_search(start_state, goal_state, depth)\n",
        "        if result is not None:\n",
        "            return result\n",
        "        depth += 1\n",
        "\n",
        "def parse_input_state(input_string):\n",
        "    rows = input_string.strip().split(\"\\n\")\n",
        "    if len(rows) != 3:\n",
        "        raise ValueError(\"The input must contain exactly 3 rows.\")\n",
        "    parsed_rows = []\n",
        "    for row in rows:\n",
        "        numbers = list(map(int, row.split()))\n",
        "        if len(numbers) != 3:\n",
        "            raise ValueError(\"Each row must contain exactly 3 numbers.\")\n",
        "\n",
        "        parsed_rows.append(tuple(numbers))\n",
        "    return tuple(parsed_rows)\n",
        "\n",
        "def main():\n",
        "    try:\n",
        "        print(\"Enter the initial state (3x3 grid with numbers 0-8, separated by spaces):\")\n",
        "        initial_input = \"\\n\".join(input().strip() for _ in range(3))\n",
        "        initial_state = parse_input_state(initial_input)\n",
        "\n",
        "        print(\"Enter the goal state (3x3 grid with numbers 0-8, separated by spaces):\")\n",
        "        goal_input = \"\\n\".join(input().strip() for _ in range(3))\n",
        "        goal_state = parse_input_state(goal_input)\n",
        "\n",
        "        print(\"\\nInitial State:\")\n",
        "        print_state(initial_state)\n",
        "\n",
        "        print(\"Goal State:\")\n",
        "        print_state(goal_state)\n",
        "\n",
        "        if initial_state == goal_state:\n",
        "            print(\"The initial state is already the goal state. No moves needed.\")\n",
        "            return\n",
        "\n",
        "        solution = dfid_search(initial_state, goal_state)\n",
        "\n",
        "        if solution:\n",
        "            print(\"Solution found:\")\n",
        "            print(\" -> \".join(solution))\n",
        "        else:\n",
        "            print(\"No solution found.\")\n",
        "\n",
        "    except ValueError as e:\n",
        "        print(f\"Input error: {e}\")\n",
        "\n",
        "if __name__ == \"__main__\":\n",
        "    main()\n"
      ],
      "metadata": {
        "colab": {
          "base_uri": "https://localhost:8080/"
        },
        "id": "hQSgLV7s1xOx",
        "outputId": "51c6de9b-c433-42dd-e938-1992f4057aa1"
      },
      "execution_count": null,
      "outputs": [
        {
          "output_type": "stream",
          "name": "stdout",
          "text": [
            "Enter the initial state (3x3 grid with numbers 0-8, separated by spaces):\n",
            "1 2 3 \n",
            "4 5 6\n",
            "7 8 0\n",
            "Enter the goal state (3x3 grid with numbers 0-8, separated by spaces):\n",
            "1 2 3\n",
            "4 5 6\n",
            "7 8 0\n",
            "\n",
            "Initial State:\n",
            "1 2 3\n",
            "4 5 6\n",
            "7 8 0\n",
            "\n",
            "Goal State:\n",
            "1 2 3\n",
            "4 5 6\n",
            "7 8 0\n",
            "\n",
            "The initial state is already the goal state. No moves needed.\n"
          ]
        }
      ]
    },
    {
      "cell_type": "markdown",
      "source": [
        "The space complexity of Depth-First Iterative Deepening (DFID) search for the 8-puzzle problem is\n",
        "\n",
        "O(d), where\n",
        "d is the depth of the solution. This is relatively efficient in terms of space, especially compared to other search algorithms like Breadth-First Search (BFS), which has a space complexity of\n",
        "𝑂\n",
        "(\n",
        "𝑏 ^\n",
        "𝑑\n",
        ")."
      ],
      "metadata": {
        "id": "CTfpAXFUCLh6"
      }
    },
    {
      "cell_type": "code",
      "source": [],
      "metadata": {
        "id": "zhs1uMGe6Vqg"
      },
      "execution_count": null,
      "outputs": []
    },
    {
      "cell_type": "markdown",
      "source": [
        "Search Algorithms:\n",
        "\n",
        "Depth-Limited Search (DLS): A search strategy that explores the state space up to a specified depth. It will explore all states at a given depth before moving to the next depth level.\n",
        "\n",
        "\n",
        "Depth-First Iterative Deepening (DFID): An algorithm that combines depth-first search's space efficiency with breadth-first search's completeness. It performs depth-limited searches with increasing depth limits until it finds a solution.\n"
      ],
      "metadata": {
        "id": "4vc9oTGl5KHk"
      }
    },
    {
      "cell_type": "code",
      "source": [
        "def get_possible_moves(state, A, B):\n",
        "    a, b = state\n",
        "    moves = []\n",
        "    moves.append((A, b))\n",
        "    moves.append((a, B))\n",
        "    moves.append((0, b))\n",
        "    moves.append((a, 0))\n",
        "    pour_to_B = min(a, B - b)\n",
        "    moves.append((a - pour_to_B, b + pour_to_B))\n",
        "    pour_to_A = min(b, A - a)\n",
        "    moves.append((a + pour_to_A, b - pour_to_A))\n",
        "    return moves\n",
        "\n",
        "def depth_limited_search(start_state, goal_state, A, B, depth):\n",
        "    if start_state == goal_state:\n",
        "        return []\n",
        "    if depth == 0:\n",
        "        return None\n",
        "\n",
        "    for next_state in get_possible_moves(start_state, A, B):\n",
        "        result = depth_limited_search(next_state, goal_state, A, B, depth - 1)\n",
        "        if result is not None:\n",
        "            return [next_state] + result\n",
        "\n",
        "    return None\n",
        "\n",
        "def dfid_search(start_state, goal_state, A, B):\n",
        "    depth = 0\n",
        "    while True:\n",
        "        result = depth_limited_search(start_state, goal_state, A, B, depth)\n",
        "        if result is not None:\n",
        "            return result\n",
        "        depth += 1\n",
        "\n",
        "def main():\n",
        "    A = int(input(\"Enter the capacity of jug A: \"))\n",
        "    B = int(input(\"Enter the capacity of jug B: \"))\n",
        "    C = int(input(\"Enter the target amount of water: \"))\n",
        "\n",
        "    # Ensure that the target amount C is achievable\n",
        "    if C > max(A, B) or C % gcd(A, B) != 0:\n",
        "        print(\"The target amount is not achievable.\")\n",
        "        return\n",
        "\n",
        "    start_state = (0, 0)\n",
        "    goal_state = (C, 0)\n",
        "\n",
        "    print(\"Initial State: (0, 0)\")\n",
        "    print(\"Goal State: (\", C, \", 0)\")\n",
        "\n",
        "    solution = dfid_search(start_state, goal_state, A, B)\n",
        "\n",
        "    if solution:\n",
        "        print(\"Solution found:\")\n",
        "        for step in solution:\n",
        "            print(step)\n",
        "    else:\n",
        "        print(\"No solution found.\")\n",
        "\n",
        "def gcd(x, y):\n",
        "    while y:\n",
        "        x,y =y,x%y\n",
        "    return x\n",
        "\n",
        "if __name__ == \"__main__\":\n",
        "    main()"
      ],
      "metadata": {
        "colab": {
          "base_uri": "https://localhost:8080/"
        },
        "id": "P1RlookO3xne",
        "outputId": "81dc5674-30d3-4fdd-ee24-98900d13458d"
      },
      "execution_count": null,
      "outputs": [
        {
          "output_type": "stream",
          "name": "stdout",
          "text": [
            "Enter the capacity of jug A: 4\n",
            "Enter the capacity of jug B: 3\n",
            "Enter the target amount of water: 2\n",
            "Initial State: (0, 0)\n",
            "Goal State: ( 2 , 0)\n",
            "Solution found:\n",
            "(0, 3)\n",
            "(3, 0)\n",
            "(3, 3)\n",
            "(4, 2)\n",
            "(0, 2)\n",
            "(2, 0)\n"
          ]
        }
      ]
    },
    {
      "cell_type": "markdown",
      "source": [
        "The time complexity of DFID in general is\n",
        "𝑂\n",
        "(\n",
        "𝑏 ^\n",
        "𝑑\n",
        ")\n",
        ", where b is the branching factor and\n",
        "𝑑\n",
        "d is the depth of the solution.\n",
        "\n",
        "\n",
        "\n",
        "\n",
        "\n",
        "DFID uses a space complexity of\n",
        "O(b×d) because it stores all nodes at a given depth level."
      ],
      "metadata": {
        "id": "fCY0-54F74hJ"
      }
    },
    {
      "cell_type": "code",
      "source": [],
      "metadata": {
        "id": "Q61YKULQ7Pi6"
      },
      "execution_count": null,
      "outputs": []
    },
    {
      "cell_type": "markdown",
      "source": [
        "Conclusion: Depth-First Iterative Deepening (DFID) is a powerful algorithm that combines the advantages\n",
        "of depth-first search (DFS) and breadth-first search (BFS). It is particularly useful when the depth of the\n",
        "solution is unknown, and it is both memory-efficient and optimal in scenarios where all actions have the same cost.\n",
        "\n",
        "\n",
        "\n",
        "DFID uses memory efficiently by maintaining only the current path in memory, unlike BFS, which requires\n",
        "storing all nodes at the current level.\n",
        "\n",
        "\n",
        "In summary, DFID is well-suited for problems like the 8-Puzzle, Water Jug, and Graph traversal, especially when memory constraints are a concern and an optimal solution is desired"
      ],
      "metadata": {
        "id": "GmQOkZAJABR1"
      }
    },
    {
      "cell_type": "code",
      "source": [],
      "metadata": {
        "id": "JJgyqNrDAJgX"
      },
      "execution_count": null,
      "outputs": []
    }
  ]
}