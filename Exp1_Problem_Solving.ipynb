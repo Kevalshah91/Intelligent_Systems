{
  "nbformat": 4,
  "nbformat_minor": 0,
  "metadata": {
    "colab": {
      "provenance": []
    },
    "kernelspec": {
      "name": "python3",
      "display_name": "Python 3"
    },
    "language_info": {
      "name": "python"
    }
  },
  "cells": [
    {
      "cell_type": "markdown",
      "source": [
        "Keval Shah <br>\n",
        "60009220061 <br>\n",
        "IS Exp 1"
      ],
      "metadata": {
        "id": "JRfGDNLsFhcj"
      }
    },
    {
      "cell_type": "code",
      "execution_count": 3,
      "metadata": {
        "colab": {
          "base_uri": "https://localhost:8080/"
        },
        "id": "mphDj3fdVMoT",
        "outputId": "9d0004b3-fe72-4e42-becb-41e0803c9ed4"
      },
      "outputs": [
        {
          "output_type": "stream",
          "name": "stdout",
          "text": [
            "Enter the initial amount in the 3-liter jug: 0\n",
            "Enter the initial amount in the 7-liter jug: 0\n",
            "Possible moves from (0, 0) : [(3, 0), (0, 7), (0, 0), (0, 0), (0, 0), (0, 0)]\n",
            "Enter the desired amount in either jug for the goal state: 0\n",
            "Enter the desired amount in the other jug for the goal state: 6\n",
            "Is (0, 6) a goal state? True\n"
          ]
        }
      ],
      "source": [
        "def MoveGen(state):\n",
        "    x, y = state\n",
        "    moves = []\n",
        "    moves.append((3, y))\n",
        "    moves.append((x, 7))\n",
        "    moves.append((0, y))\n",
        "    moves.append((x, 0))\n",
        "    transfer = min(x, 7 - y)\n",
        "    moves.append((x - transfer, y + transfer))\n",
        "    transfer = min(y, 3 - x)\n",
        "    moves.append((x + transfer, y - transfer))\n",
        "    return moves\n",
        "\n",
        "def GoalTest(state):\n",
        "    return state[0] == 6 or state[1] == 6\n",
        "\n",
        "try:\n",
        "    x = int(input(\"Enter the initial amount in the 3-liter jug: \"))\n",
        "    y = int(input(\"Enter the initial amount in the 7-liter jug: \"))\n",
        "\n",
        "    if not (0 <= x <= 3) or not (0 <= y <= 7):\n",
        "        raise ValueError(\"Initial amounts are out of bounds.\")\n",
        "\n",
        "    initial_state = (x, y)\n",
        "    moves = MoveGen(initial_state)\n",
        "    print(\"Possible moves from\", initial_state, \":\", moves)\n",
        "\n",
        "    goal_x = int(input(\"Enter the desired amount in either jug for the goal state: \"))\n",
        "    goal_y = int(input(\"Enter the desired amount in the other jug for the goal state: \"))\n",
        "\n",
        "    if not (0 <= goal_x <= 3) or not (0 <= goal_y <= 7):\n",
        "        raise ValueError(\"Goal state amounts are out of bounds.\")\n",
        "\n",
        "    goal_state = (goal_x, goal_y)\n",
        "    is_goal = GoalTest(goal_state)\n",
        "    print(\"Is\", goal_state, \"a goal state?\", is_goal)\n",
        "\n",
        "except ValueError as e:\n",
        "    print(f\"Input error: {e}\")"
      ]
    },
    {
      "cell_type": "markdown",
      "source": [
        "1. MoveGen(state) : Generates all possible moves from the current state (x, y), where x is the amount of water in the 3-liter jug and y is the amount in the 7-liter jug.\n",
        "\n",
        "2. GoalTest(state) : Checks if the current state satisfies the goal condition."
      ],
      "metadata": {
        "id": "YxGV7DhkCm1y"
      }
    },
    {
      "cell_type": "code",
      "source": [
        "from itertools import permutations\n",
        "\n",
        "def MoveGen(state, cities):\n",
        "    moves = []\n",
        "    for perm in permutations(cities):\n",
        "        if perm != state:\n",
        "            moves.append(perm)\n",
        "    return moves\n",
        "\n",
        "def GoalTest(state, cities):\n",
        "    return state == tuple(cities)\n",
        "\n",
        "initial_state = tuple(input(\"Enter the initial permutation of cities: \").split())\n",
        "cities = tuple(input(\"Enter the cities to visit: \").split())\n",
        "\n",
        "moves = MoveGen(initial_state, cities)\n",
        "print(\"Possible permutations from\", initial_state, \":\", moves)\n",
        "\n",
        "is_goal = GoalTest(initial_state, cities)\n",
        "print(\"Is\", initial_state, \"the goal state?\", is_goal)"
      ],
      "metadata": {
        "colab": {
          "base_uri": "https://localhost:8080/"
        },
        "id": "uZswuo35DH_1",
        "outputId": "bfa7af18-f078-4162-e2d7-3302d6fecf8a"
      },
      "execution_count": 5,
      "outputs": [
        {
          "output_type": "stream",
          "name": "stdout",
          "text": [
            "Enter the initial permutation of cities: 0 1 2\n",
            "Enter the cities to visit: 1 2\n",
            "Possible permutations from ('0', '1', '2') : [('1', '2'), ('2', '1')]\n",
            "Is ('0', '1', '2') the goal state? False\n"
          ]
        }
      ]
    },
    {
      "cell_type": "code",
      "source": [
        "initial_state = tuple(input(\"Enter the initial permutation of cities: \").split())\n",
        "cities = tuple(input(\"Enter the cities to visit: \").split())\n",
        "\n",
        "moves = MoveGen(initial_state, cities)\n",
        "print(\"Possible permutations from\", initial_state, \":\", moves)\n",
        "\n",
        "is_goal = GoalTest(initial_state, cities)\n",
        "print(\"Is\", initial_state, \"the goal state?\", is_goal)"
      ],
      "metadata": {
        "colab": {
          "base_uri": "https://localhost:8080/"
        },
        "id": "J3_orp9MzFoG",
        "outputId": "356fda77-1cf5-4e82-e9a3-8eaf7b9fe60a"
      },
      "execution_count": 7,
      "outputs": [
        {
          "output_type": "stream",
          "name": "stdout",
          "text": [
            "Enter the initial permutation of cities: 0 1 2\n",
            "Enter the cities to visit: 0 1 2\n",
            "Possible permutations from ('0', '1', '2') : [('0', '2', '1'), ('1', '0', '2'), ('1', '2', '0'), ('2', '0', '1'), ('2', '1', '0')]\n",
            "Is ('0', '1', '2') the goal state? True\n"
          ]
        }
      ]
    },
    {
      "cell_type": "code",
      "source": [
        "def MoveGen(state):\n",
        "    def swap(state, i, j):\n",
        "        state = list(state)\n",
        "        state[i], state[j] = state[j], state[i]\n",
        "        return tuple(state)\n",
        "\n",
        "    moves = []\n",
        "    index = state.index(0)\n",
        "    row, col = index // 3, index % 3\n",
        "\n",
        "    if row > 0:\n",
        "        moves.append(swap(state, index, index - 3))  # Move up\n",
        "    if row < 2:\n",
        "        moves.append(swap(state, index, index + 3))  # Move down\n",
        "    if col > 0:\n",
        "        moves.append(swap(state, index, index - 1))  # Move left\n",
        "    if col < 2:\n",
        "        moves.append(swap(state, index, index + 1))  # Move right\n",
        "\n",
        "    return moves\n",
        "\n",
        "def GoalTest(state):\n",
        "    return state == (1, 2, 3, 4, 5, 6, 7, 8, 0)\n",
        "\n",
        "initial_state = tuple(map(int, input(\"Enter the initial state of the 8 puzzle: \").split()))\n",
        "moves = MoveGen(initial_state)\n",
        "print(\"Possible moves from\", initial_state, \":\", moves)\n",
        "is_goal = GoalTest(initial_state)\n",
        "print(\"Is\", initial_state, \"the goal state?\", is_goal)"
      ],
      "metadata": {
        "colab": {
          "base_uri": "https://localhost:8080/"
        },
        "id": "XD3m9DLQDjPd",
        "outputId": "06dc211f-b668-4eed-aec0-f140f1c32923"
      },
      "execution_count": 11,
      "outputs": [
        {
          "output_type": "stream",
          "name": "stdout",
          "text": [
            "Enter the initial state of the 8 puzzle: 1 2 3 4 5 6 0 7 8\n",
            "Possible moves from (1, 2, 3, 4, 5, 6, 0, 7, 8) : [(1, 2, 3, 0, 5, 6, 4, 7, 8), (1, 2, 3, 4, 5, 6, 7, 0, 8)]\n",
            "Is (1, 2, 3, 4, 5, 6, 0, 7, 8) the goal state? False\n"
          ]
        }
      ]
    },
    {
      "cell_type": "code",
      "source": [
        "initial_state = tuple(map(int, input(\"Enter the initial state of the 8 puzzle: \").split()))\n",
        "moves = MoveGen(initial_state)\n",
        "print(\"Possible moves from\", initial_state, \":\", moves)\n",
        "is_goal = GoalTest(initial_state)\n",
        "print(\"Is\", initial_state, \"the goal state?\", is_goal)"
      ],
      "metadata": {
        "colab": {
          "base_uri": "https://localhost:8080/"
        },
        "id": "pdwRnrytEUH9",
        "outputId": "d4f9005b-eb2f-4c4d-979c-5fbf4a1227cb"
      },
      "execution_count": 12,
      "outputs": [
        {
          "output_type": "stream",
          "name": "stdout",
          "text": [
            "Enter the initial state of the 8 puzzle: 1 2 3 4 5 6 7 8 0\n",
            "Possible moves from (1, 2, 3, 4, 5, 6, 7, 8, 0) : [(1, 2, 3, 4, 5, 0, 7, 8, 6), (1, 2, 3, 4, 5, 6, 7, 0, 8)]\n",
            "Is (1, 2, 3, 4, 5, 6, 7, 8, 0) the goal state? True\n"
          ]
        }
      ]
    },
    {
      "cell_type": "markdown",
      "source": [
        "**Conclusion :**\n",
        "In this experiment, we explored solving classic problems like the 8 Puzzle using functions to generate moves and check for goal states. By defining specific rules for tile movement and target configurations, we effectively demonstrated how to navigate and solve such puzzles. This approach aids in understanding algorithmic problem-solving."
      ],
      "metadata": {
        "id": "OqP5X-ctFXQS"
      }
    },
    {
      "cell_type": "code",
      "source": [],
      "metadata": {
        "id": "ODbYxt5eFJw_"
      },
      "execution_count": null,
      "outputs": []
    }
  ]
}