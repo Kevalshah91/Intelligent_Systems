{
  "nbformat": 4,
  "nbformat_minor": 0,
  "metadata": {
    "colab": {
      "provenance": []
    },
    "kernelspec": {
      "name": "python3",
      "display_name": "Python 3"
    },
    "language_info": {
      "name": "python"
    }
  },
  "cells": [
    {
      "cell_type": "markdown",
      "source": [
        "Keval Shah\n",
        "<br> 60009220061 <br>\n",
        "IS Exp3"
      ],
      "metadata": {
        "id": "ejQqfN6XLtaY"
      }
    },
    {
      "cell_type": "code",
      "execution_count": null,
      "metadata": {
        "id": "Lrh_ZGCmLmBm"
      },
      "outputs": [],
      "source": [
        "import heapq"
      ]
    },
    {
      "cell_type": "code",
      "source": [
        "def generate_neighbors(state):\n",
        "    neighbors = []\n",
        "\n",
        "    # Move top block from each stack to another stack\n",
        "    for i in range(len(state)):\n",
        "        if state[i]:  # If the stack is not empty\n",
        "            block_to_move = state[i][-1]\n",
        "            for j in range(len(state)):\n",
        "                if i != j:\n",
        "                    new_state = [stack[:] for stack in state]\n",
        "                    new_state[i].pop()\n",
        "                    new_state[j].append(block_to_move)\n",
        "                    neighbors.append(new_state)\n",
        "\n",
        "    return neighbors"
      ],
      "metadata": {
        "id": "UOxbNjwvLpPs"
      },
      "execution_count": null,
      "outputs": []
    },
    {
      "cell_type": "code",
      "source": [
        "def h1_correct_placement(state):\n",
        "    goal_state = [['A', 'E', 'B', 'C', 'D'], ['F'], []]\n",
        "    correct_positions = 0\n",
        "    for i, stack in enumerate(state):\n",
        "        for j, block in enumerate(stack):\n",
        "            if j < len(goal_state[i]) and block == goal_state[i][j]:\n",
        "                correct_positions += 1\n",
        "    return len(state) - correct_positions"
      ],
      "metadata": {
        "id": "BoPIL9jFMHhe"
      },
      "execution_count": null,
      "outputs": []
    },
    {
      "cell_type": "code",
      "source": [
        "def h2_correct_structure(state):\n",
        "    goal_state = [['A', 'E', 'B', 'C', 'D'], ['F'], []]\n",
        "    correct_stacks = 0\n",
        "    for i, stack in enumerate(state):\n",
        "        if stack == goal_state[i]:\n",
        "            correct_stacks += 1\n",
        "    return len(state) - correct_stacks"
      ],
      "metadata": {
        "id": "Q2Y7klKGMPK-"
      },
      "execution_count": null,
      "outputs": []
    },
    {
      "cell_type": "code",
      "source": [
        "def hill_climbing(start_state, heuristic):\n",
        "    N = start_state\n",
        "    while True:\n",
        "        bestEver = N\n",
        "        neighbors = generate_neighbors(bestEver)\n",
        "        N = min(neighbors, key=heuristic)\n",
        "        if heuristic(N) >= heuristic(bestEver):\n",
        "            break\n",
        "    return bestEver"
      ],
      "metadata": {
        "id": "-6V5EdZdMRhQ"
      },
      "execution_count": null,
      "outputs": []
    },
    {
      "cell_type": "code",
      "source": [
        "def best_first_search(start_state, goal_state, heuristic):\n",
        "    open_list = []\n",
        "    closed_list = set()\n",
        "    heapq.heappush(open_list, (heuristic(start_state), start_state))\n",
        "\n",
        "    while open_list:\n",
        "        _, current_state = heapq.heappop(open_list)\n",
        "        if current_state == goal_state:\n",
        "            return current_state\n",
        "        closed_list.add(tuple(map(tuple, current_state)))\n",
        "        neighbors = generate_neighbors(current_state)\n",
        "        for neighbor in neighbors:\n",
        "            if tuple(map(tuple, neighbor)) not in closed_list:\n",
        "                heapq.heappush(open_list, (heuristic(neighbor), neighbor))\n",
        "    return None"
      ],
      "metadata": {
        "id": "ffkzoIkrMT35"
      },
      "execution_count": null,
      "outputs": []
    },
    {
      "cell_type": "code",
      "source": [
        "start_state = [['A', 'B', 'C', 'D'], ['E', 'F'], []]\n",
        "goal_state = [['A', 'E', 'B', 'C', 'D'], ['F'], []]"
      ],
      "metadata": {
        "id": "BDIt_PyWMXZZ"
      },
      "execution_count": null,
      "outputs": []
    },
    {
      "cell_type": "code",
      "source": [
        "final_state_h1 = hill_climbing(start_state, h1_correct_placement)\n",
        "print(\"Final state using Hill Climbing with Heuristic 1:\", final_state_h1)\n",
        "\n",
        "final_state_h2 = hill_climbing(start_state, h2_correct_structure)\n",
        "print(\"Final state using Hill Climbing with Heuristic 2:\", final_state_h2)"
      ],
      "metadata": {
        "colab": {
          "base_uri": "https://localhost:8080/"
        },
        "id": "rB_c3zkiMdrC",
        "outputId": "ad028b2d-5f45-4482-8f4e-1fb7a6db8168"
      },
      "execution_count": null,
      "outputs": [
        {
          "output_type": "stream",
          "name": "stdout",
          "text": [
            "Final state using Hill Climbing with Heuristic 1: [['A', 'B', 'C', 'D'], ['E', 'F'], []]\n",
            "Final state using Hill Climbing with Heuristic 2: [['A', 'B', 'C', 'D'], ['E', 'F'], []]\n"
          ]
        }
      ]
    },
    {
      "cell_type": "code",
      "source": [
        "final_state_bfs_h1 = best_first_search(start_state, goal_state, h1_correct_placement)\n",
        "print(\"Final state using Best First Search with Heuristic 1:\", final_state_bfs_h1)\n",
        "\n",
        "final_state_bfs_h2 = best_first_search(start_state, goal_state, h2_correct_structure)\n",
        "print(\"Final state using Best First Search with Heuristic 2:\", final_state_bfs_h2)"
      ],
      "metadata": {
        "colab": {
          "base_uri": "https://localhost:8080/"
        },
        "id": "J5rSCShfMhba",
        "outputId": "96245b03-ec94-4305-927c-1391ddb2ae45"
      },
      "execution_count": null,
      "outputs": [
        {
          "output_type": "stream",
          "name": "stdout",
          "text": [
            "Final state using Best First Search with Heuristic 1: [['A', 'E', 'B', 'C', 'D'], ['F'], []]\n",
            "Final state using Best First Search with Heuristic 2: [['A', 'E', 'B', 'C', 'D'], ['F'], []]\n"
          ]
        }
      ]
    },
    {
      "cell_type": "code",
      "source": [],
      "metadata": {
        "id": "XakXKY97Mmxu"
      },
      "execution_count": null,
      "outputs": []
    }
  ]
}