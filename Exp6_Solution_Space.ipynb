{
  "nbformat": 4,
  "nbformat_minor": 0,
  "metadata": {
    "colab": {
      "provenance": []
    },
    "kernelspec": {
      "name": "python3",
      "display_name": "Python 3"
    },
    "language_info": {
      "name": "python"
    }
  },
  "cells": [
    {
      "cell_type": "markdown",
      "source": [
        "Keval Shah <br>\n",
        "60009220061 <br>\n",
        "Solution space"
      ],
      "metadata": {
        "id": "ZuPRKdAOKlXp"
      }
    },
    {
      "cell_type": "code",
      "execution_count": 1,
      "metadata": {
        "id": "SwLrMyCBEdV9"
      },
      "outputs": [],
      "source": [
        "import random"
      ]
    },
    {
      "cell_type": "code",
      "source": [
        "def sat_problem_1(A, B, C, D, E):\n",
        "    return (A or not B) and (B or not C) and (not B) and (not C or E) and (A or C) and (not C or not D)"
      ],
      "metadata": {
        "id": "CA-3RPzZGVUp"
      },
      "execution_count": 2,
      "outputs": []
    },
    {
      "cell_type": "code",
      "source": [
        "def sat_problem_2(A, B, C, D, E):\n",
        "    return (A or B) and (A and not C) and (B and D) and (A or not E)"
      ],
      "metadata": {
        "id": "HWsL8Qv4GYyk"
      },
      "execution_count": 3,
      "outputs": []
    },
    {
      "cell_type": "code",
      "source": [
        "def initialize_solution():\n",
        "    return [random.choice([True, False]) for _ in range(5)]"
      ],
      "metadata": {
        "id": "9Lzqo0rEGc7L"
      },
      "execution_count": 4,
      "outputs": []
    },
    {
      "cell_type": "code",
      "source": [
        "def evaluate(problem, solution):\n",
        "    A, B, C, D, E = solution\n",
        "    return problem(A, B, C, D, E)"
      ],
      "metadata": {
        "id": "8ovf2TkmGmBq"
      },
      "execution_count": 5,
      "outputs": []
    },
    {
      "cell_type": "code",
      "source": [
        "def flip_variable(solution, index):\n",
        "    new_solution = solution[:]\n",
        "    new_solution[index] = not new_solution[index]\n",
        "    return new_solution"
      ],
      "metadata": {
        "id": "Chk-9K54Go1t"
      },
      "execution_count": 6,
      "outputs": []
    },
    {
      "cell_type": "code",
      "source": [
        "def move_gen(solution, i):\n",
        "    neighborhood = []\n",
        "    for index_to_flip in range(len(solution)):\n",
        "        neighbor = flip_variable(solution, index_to_flip)\n",
        "        neighborhood.append(neighbor)\n",
        "    return neighborhood"
      ],
      "metadata": {
        "id": "m5O0yHevGqhI"
      },
      "execution_count": 13,
      "outputs": []
    },
    {
      "cell_type": "code",
      "source": [
        "def hill_climbing(solution, problem, neighborhood):\n",
        "    best_solution = solution\n",
        "    for neighbor in neighborhood:\n",
        "        if evaluate(problem, neighbor):\n",
        "            print(f\"Neighbor {neighbor} satisfies the problem!\")\n",
        "            best_solution = neighbor\n",
        "    return best_solution"
      ],
      "metadata": {
        "id": "KeP0FcT0Gu-s"
      },
      "execution_count": 14,
      "outputs": []
    },
    {
      "cell_type": "code",
      "source": [
        "def vnd(problem, max_neighborhoods, max_restarts):\n",
        "    for restart in range(max_restarts):\n",
        "        solution = initialize_solution()\n",
        "        print(f\"Initial Solution: {solution}\")\n",
        "        print(f\"Initial Solution Satisfies Problem: {evaluate(problem, solution)}\")\n",
        "\n",
        "        for i in range(1, max_neighborhoods + 1):\n",
        "            neighborhood = move_gen(solution, i)\n",
        "            new_solution = hill_climbing(solution, problem, neighborhood)\n",
        "            if evaluate(problem, new_solution):\n",
        "                print(f\"Improved Solution in Neighborhood {i}: {new_solution}\")\n",
        "                solution = new_solution\n",
        "            else:\n",
        "                print(f\"No improvement in Neighborhood {i}\")\n",
        "        if evaluate(problem, solution):\n",
        "            print(f\"Final Solution (Restart {restart}): {solution}\")\n",
        "            return solution\n",
        "        else:\n",
        "            print(f\"Restarting... (Restart {restart})\")\n",
        "    print(\"No solution found after all restarts.\")\n",
        "    return solution"
      ],
      "metadata": {
        "id": "RW_wUM1yGxNa"
      },
      "execution_count": 19,
      "outputs": []
    },
    {
      "cell_type": "code",
      "source": [
        "vnd(sat_problem_1, max_neighborhoods=2, max_restarts=5)"
      ],
      "metadata": {
        "colab": {
          "base_uri": "https://localhost:8080/"
        },
        "id": "D7fnmog-JEUp",
        "outputId": "9043a34d-f6f3-4258-e20b-dcc65cb52e14"
      },
      "execution_count": 21,
      "outputs": [
        {
          "output_type": "stream",
          "name": "stdout",
          "text": [
            "Initial Solution: [True, False, True, True, False]\n",
            "Initial Solution Satisfies Problem: False\n",
            "Neighbor [True, False, False, True, False] satisfies the problem!\n",
            "Improved Solution in Neighborhood 1: [True, False, False, True, False]\n",
            "Neighbor [True, False, False, False, False] satisfies the problem!\n",
            "Neighbor [True, False, False, True, True] satisfies the problem!\n",
            "Improved Solution in Neighborhood 2: [True, False, False, True, True]\n",
            "Final Solution (Restart 0): [True, False, False, True, True]\n"
          ]
        },
        {
          "output_type": "execute_result",
          "data": {
            "text/plain": [
              "[True, False, False, True, True]"
            ]
          },
          "metadata": {},
          "execution_count": 21
        }
      ]
    },
    {
      "cell_type": "code",
      "source": [
        "vnd(sat_problem_1, max_neighborhoods=3, max_restarts=5)"
      ],
      "metadata": {
        "colab": {
          "base_uri": "https://localhost:8080/"
        },
        "id": "1mH5LxgCI2MZ",
        "outputId": "2a4bab49-07b7-4d36-9ed1-52f6d2ab8b2c"
      },
      "execution_count": 20,
      "outputs": [
        {
          "output_type": "stream",
          "name": "stdout",
          "text": [
            "Initial Solution: [False, True, False, False, True]\n",
            "Initial Solution Satisfies Problem: False\n",
            "No improvement in Neighborhood 1\n",
            "No improvement in Neighborhood 2\n",
            "No improvement in Neighborhood 3\n",
            "Restarting... (Restart 0)\n",
            "Initial Solution: [True, True, True, True, True]\n",
            "Initial Solution Satisfies Problem: False\n",
            "No improvement in Neighborhood 1\n",
            "No improvement in Neighborhood 2\n",
            "No improvement in Neighborhood 3\n",
            "Restarting... (Restart 1)\n",
            "Initial Solution: [True, False, False, False, False]\n",
            "Initial Solution Satisfies Problem: True\n",
            "Neighbor [True, False, False, True, False] satisfies the problem!\n",
            "Neighbor [True, False, False, False, True] satisfies the problem!\n",
            "Improved Solution in Neighborhood 1: [True, False, False, False, True]\n",
            "Neighbor [True, False, False, True, True] satisfies the problem!\n",
            "Neighbor [True, False, False, False, False] satisfies the problem!\n",
            "Improved Solution in Neighborhood 2: [True, False, False, False, False]\n",
            "Neighbor [True, False, False, True, False] satisfies the problem!\n",
            "Neighbor [True, False, False, False, True] satisfies the problem!\n",
            "Improved Solution in Neighborhood 3: [True, False, False, False, True]\n",
            "Final Solution (Restart 2): [True, False, False, False, True]\n"
          ]
        },
        {
          "output_type": "execute_result",
          "data": {
            "text/plain": [
              "[True, False, False, False, True]"
            ]
          },
          "metadata": {},
          "execution_count": 20
        }
      ]
    },
    {
      "cell_type": "code",
      "source": [
        "vnd(sat_problem_2, max_neighborhoods=2, max_restarts=5)"
      ],
      "metadata": {
        "colab": {
          "base_uri": "https://localhost:8080/"
        },
        "id": "5yAQ_a7nJTae",
        "outputId": "c8f194da-8ad4-490d-d314-bcae1acd3978"
      },
      "execution_count": 22,
      "outputs": [
        {
          "output_type": "stream",
          "name": "stdout",
          "text": [
            "Initial Solution: [False, False, True, False, True]\n",
            "Initial Solution Satisfies Problem: False\n",
            "No improvement in Neighborhood 1\n",
            "No improvement in Neighborhood 2\n",
            "Restarting... (Restart 0)\n",
            "Initial Solution: [False, False, False, True, True]\n",
            "Initial Solution Satisfies Problem: False\n",
            "No improvement in Neighborhood 1\n",
            "No improvement in Neighborhood 2\n",
            "Restarting... (Restart 1)\n",
            "Initial Solution: [False, False, False, False, False]\n",
            "Initial Solution Satisfies Problem: False\n",
            "No improvement in Neighborhood 1\n",
            "No improvement in Neighborhood 2\n",
            "Restarting... (Restart 2)\n",
            "Initial Solution: [True, True, False, True, False]\n",
            "Initial Solution Satisfies Problem: True\n",
            "Neighbor [True, True, False, True, True] satisfies the problem!\n",
            "Improved Solution in Neighborhood 1: [True, True, False, True, True]\n",
            "Neighbor [True, True, False, True, False] satisfies the problem!\n",
            "Improved Solution in Neighborhood 2: [True, True, False, True, False]\n",
            "Final Solution (Restart 3): [True, True, False, True, False]\n"
          ]
        },
        {
          "output_type": "execute_result",
          "data": {
            "text/plain": [
              "[True, True, False, True, False]"
            ]
          },
          "metadata": {},
          "execution_count": 22
        }
      ]
    },
    {
      "cell_type": "code",
      "source": [
        "vnd(sat_problem_2, max_neighborhoods=3, max_restarts=5)"
      ],
      "metadata": {
        "colab": {
          "base_uri": "https://localhost:8080/"
        },
        "id": "fyZSrdO7Jcpg",
        "outputId": "8d5df366-a322-4d0c-d38f-1a5ea9fe3140"
      },
      "execution_count": 23,
      "outputs": [
        {
          "output_type": "stream",
          "name": "stdout",
          "text": [
            "Initial Solution: [False, False, True, False, True]\n",
            "Initial Solution Satisfies Problem: False\n",
            "No improvement in Neighborhood 1\n",
            "No improvement in Neighborhood 2\n",
            "No improvement in Neighborhood 3\n",
            "Restarting... (Restart 0)\n",
            "Initial Solution: [True, True, True, False, False]\n",
            "Initial Solution Satisfies Problem: False\n",
            "No improvement in Neighborhood 1\n",
            "No improvement in Neighborhood 2\n",
            "No improvement in Neighborhood 3\n",
            "Restarting... (Restart 1)\n",
            "Initial Solution: [True, False, True, True, False]\n",
            "Initial Solution Satisfies Problem: False\n",
            "No improvement in Neighborhood 1\n",
            "No improvement in Neighborhood 2\n",
            "No improvement in Neighborhood 3\n",
            "Restarting... (Restart 2)\n",
            "Initial Solution: [False, False, False, True, False]\n",
            "Initial Solution Satisfies Problem: False\n",
            "No improvement in Neighborhood 1\n",
            "No improvement in Neighborhood 2\n",
            "No improvement in Neighborhood 3\n",
            "Restarting... (Restart 3)\n",
            "Initial Solution: [True, True, True, False, False]\n",
            "Initial Solution Satisfies Problem: False\n",
            "No improvement in Neighborhood 1\n",
            "No improvement in Neighborhood 2\n",
            "No improvement in Neighborhood 3\n",
            "Restarting... (Restart 4)\n",
            "No solution found after all restarts.\n"
          ]
        },
        {
          "output_type": "execute_result",
          "data": {
            "text/plain": [
              "[True, True, True, False, False]"
            ]
          },
          "metadata": {},
          "execution_count": 23
        }
      ]
    },
    {
      "cell_type": "code",
      "source": [],
      "metadata": {
        "id": "RLV32WFhJiHu"
      },
      "execution_count": null,
      "outputs": []
    },
    {
      "cell_type": "markdown",
      "source": [
        "## Conclusion\n",
        "\n",
        "The **Variable Neighborhood Descent (VND)** algorithm successfully explores solutions to SAT problems by shifting between different neighborhoods. Its flexibility allows tackling combinatorial optimization tasks such as scheduling, routing, and resource allocation in industries like logistics, AI, and operations research.\n"
      ],
      "metadata": {
        "id": "sXh62p6jJ2Tp"
      }
    },
    {
      "cell_type": "code",
      "source": [],
      "metadata": {
        "id": "X1SyGl14J4bH"
      },
      "execution_count": null,
      "outputs": []
    }
  ]
}